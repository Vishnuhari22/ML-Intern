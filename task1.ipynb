{
 "cells": [
  {
   "cell_type": "code",
   "execution_count": null,
   "metadata": {},
   "outputs": [],
   "source": [
    "#Preprocessing\n",
    "#Importing modules\n",
    "import pandas as pd\n",
    "import numpy as np"
   ]
  },
  {
   "cell_type": "code",
   "execution_count": null,
   "metadata": {},
   "outputs": [],
   "source": [
    "#Dataframe creation\n",
    "dframe = pd.read_csv(\"C:\\\\Users\\\\user\\\\Downloads\\\\Dataset .csv\")"
   ]
  },
  {
   "cell_type": "code",
   "execution_count": null,
   "metadata": {},
   "outputs": [],
   "source": [
    "#Represent Pandas DataFrame\n",
    "dframe"
   ]
  },
  {
   "cell_type": "code",
   "execution_count": null,
   "metadata": {},
   "outputs": [],
   "source": [
    "#Dropping columns\n",
    "#axis=1 specifies we have to remove column if axis=0, rows are considered and default is 0\n",
    "dframe = dframe.drop('Restaurant ID', axis=1)\n",
    "dframe = dframe.drop('Restaurant Name', axis=1)\n",
    "dframe = dframe.drop('Country Code', axis=1)\n",
    "dframe = dframe.drop('City', axis=1)\n",
    "dframe = dframe.drop('Address', axis=1)\n",
    "dframe = dframe.drop('Locality', axis=1)\n",
    "dframe = dframe.drop('Locality Verbose', axis=1)\n",
    "dframe = dframe.drop('Longitude', axis=1)\n",
    "dframe = dframe.drop('Latitude', axis=1)\n",
    "dframe = dframe.drop('Cuisines', axis=1)\n",
    "dframe = dframe.drop('Currency', axis=1)"
   ]
  },
  {
   "cell_type": "code",
   "execution_count": null,
   "metadata": {},
   "outputs": [],
   "source": [
    "dframe"
   ]
  },
  {
   "cell_type": "code",
   "execution_count": null,
   "metadata": {},
   "outputs": [],
   "source": [
    "#Checking dimensions\n",
    "dframe.shape"
   ]
  },
  {
   "cell_type": "code",
   "execution_count": null,
   "metadata": {},
   "outputs": [],
   "source": [
    "#Finding summary of Dframe structure\n",
    "dframe.info"
   ]
  },
  {
   "cell_type": "code",
   "execution_count": null,
   "metadata": {},
   "outputs": [],
   "source": [
    "#Generate summary statistics\n",
    "dframe.describe()"
   ]
  },
  {
   "cell_type": "code",
   "execution_count": null,
   "metadata": {},
   "outputs": [],
   "source": [
    "#Checking missing values\n",
    "dframe.isnull().sum()"
   ]
  },
  {
   "cell_type": "code",
   "execution_count": null,
   "metadata": {},
   "outputs": [],
   "source": [
    "#Duplicate values checking\n",
    "dframe.duplicated().sum()"
   ]
  },
  {
   "cell_type": "code",
   "execution_count": null,
   "metadata": {},
   "outputs": [],
   "source": [
    "#Removing rows containing missing values from dataframe\n",
    "dframe.dropna(inplace=True)"
   ]
  },
  {
   "cell_type": "code",
   "execution_count": null,
   "metadata": {},
   "outputs": [],
   "source": [
    "#Importing data visualization modules\n",
    "import matplotlib.pyplot as plt\n",
    "import seaborn as sns\n",
    "%matplotlib inline"
   ]
  },
  {
   "cell_type": "code",
   "execution_count": null,
   "metadata": {},
   "outputs": [],
   "source": [
    "#Pie chart to visualize distribution of price ranges in dataframe\n",
    "dframe['Price range'].value_counts().plot(kind='pie', autopct = '%.2f')"
   ]
  },
  {
   "cell_type": "code",
   "execution_count": null,
   "metadata": {},
   "outputs": [],
   "source": [
    "#Pie chart to visualize distribution of Aggregate rating in dataframe\n",
    "dframe['Aggregate rating'].value_counts().plot(kind='pie', autopct = '%.2f')"
   ]
  },
  {
   "cell_type": "code",
   "execution_count": null,
   "metadata": {},
   "outputs": [],
   "source": [
    "#Distribution plot for aggregate rating\n",
    "sns.displot(dframe['Aggregate rating'])"
   ]
  },
  {
   "cell_type": "code",
   "execution_count": null,
   "metadata": {},
   "outputs": [],
   "source": [
    "#Distribution plot for price range\n",
    "sns.displot(dframe['Price range'])"
   ]
  },
  {
   "cell_type": "code",
   "execution_count": null,
   "metadata": {},
   "outputs": [],
   "source": [
    "#Creating a bar chart for relationship between considered columns in dataframe\n",
    "#hue assigns different color to each bar based on corresponding rating color\n",
    "sns.barplot(x=dframe[\"Rating text\"],y=dframe[\"Votes\"],hue =dframe[\"Rating color\"])"
   ]
  },
  {
   "cell_type": "code",
   "execution_count": null,
   "metadata": {},
   "outputs": [],
   "source": [
    "#Creating a scatterplot\n",
    "#hue acts as grouping variable and color of each datapoint in plot will correspond to its price range category\n",
    "sns.scatterplot(x=dframe[\"Aggregate rating\"],y=dframe[\"Votes\"],hue=dframe[\"Price range\"])"
   ]
  },
  {
   "cell_type": "code",
   "execution_count": null,
   "metadata": {},
   "outputs": [],
   "source": [
    "#Applying label encoding\n",
    "#LabelEncoder class from the preprocessing submodule of the scikit-learn library.\n",
    "from sklearn.preprocessing import LabelEncoder\n",
    "label_encoder = LabelEncoder() #creates an instance of the LabelEncoder class and assigns it to a variable\n",
    "#Applying label encoding to specific columns\n",
    "#fit analyzes unique values and transform replaces unique value in each column with a numerical label\n",
    "dframe['Has Table booking'] = label_encoder.fit_transform(dframe['Has Table booking'])\n",
    "dframe['Has Online delivery'] = label_encoder.fit_transform(dframe['Has Online delivery'])\n",
    "dframe['Is delivering now'] = label_encoder.fit_transform(dframe['Is delivering now'])\n",
    "dframe['Switch to order menu'] = label_encoder.fit_transform(dframe['Switch to order menu'])\n",
    "dframe['Rating color'] = label_encoder.fit_transform(dframe['Rating color'])\n",
    "dframe['Rating text'] = label_encoder.fit_transform(dframe['Rating text'])\n",
    "\n",
    "\n",
    "\n"
   ]
  },
  {
   "cell_type": "code",
   "execution_count": null,
   "metadata": {},
   "outputs": [],
   "source": [
    "dframe"
   ]
  },
  {
   "cell_type": "code",
   "execution_count": null,
   "metadata": {},
   "outputs": [],
   "source": [
    "#Generating a correlation heatmap to visualize relationships between numerical feaatures in our dataframe\n",
    "correlation_matrix = dframe.corr()\n",
    "plt.figure(figsize=(8, 6))\n",
    "sns.heatmap(correlation_matrix, annot=True, cmap='RdBu', fmt=\".2f\", linewidths=1)\n",
    "plt.title('Heatmap')\n",
    "plt.show()"
   ]
  },
  {
   "cell_type": "code",
   "execution_count": null,
   "metadata": {},
   "outputs": [],
   "source": [
    "from sklearn.model_selection import train_test_split\n",
    "from sklearn.metrics import classification_report\n",
    "from sklearn.metrics import confusion_matrix\n",
    "from sklearn.metrics import r2_score"
   ]
  },
  {
   "cell_type": "code",
   "execution_count": null,
   "metadata": {},
   "outputs": [],
   "source": [
    "#Separating dataframe into two parts\n",
    "x = dframe.drop('Aggregate rating', axis=1) #Creates a new DataFrame called x by dropping a column\n",
    "y = dframe['Aggregate rating'] #Assigns the 'Aggregate rating' column to y(target variable)"
   ]
  },
  {
   "cell_type": "code",
   "execution_count": null,
   "metadata": {},
   "outputs": [],
   "source": [
    "#Splitting data for training and testing ML model\n",
    "x_train,x_test,y_train,y_test=train_test_split(x,y,test_size=.1,random_state=353)\n",
    "x_train.head()\n",
    "y_train.head()"
   ]
  },
  {
   "cell_type": "code",
   "execution_count": null,
   "metadata": {},
   "outputs": [],
   "source": [
    "#Decision Tree Model building\n",
    "from sklearn.tree import DecisionTreeRegressor\n",
    "x_train,x_test,y_train,y_test=train_test_split(x,y,test_size=.1,random_state=105)\n",
    "DT=DecisionTreeRegressor(min_samples_leaf=.0001) #Creates an instance \n",
    "DT.fit(x_train,y_train) #Training model using training features and training target variable\n",
    "y_predict=DT.predict(x_test) #Predict the target variable for the unseen testing features\n",
    "from sklearn.metrics import r2_score\n",
    "r2_score(y_test,y_predict) #Calculates R-squared value"
   ]
  },
  {
   "cell_type": "code",
   "execution_count": null,
   "metadata": {},
   "outputs": [],
   "source": [
    "from sklearn.tree import DecisionTreeRegressor\n",
    "from sklearn.model_selection import train_test_split\n",
    "from sklearn.metrics import mean_squared_error, r2_score\n",
    "DT = DecisionTreeRegressor(min_samples_leaf=0.0001)\n",
    "DT.fit(x_train, y_train)\n",
    "y_predict = DT.predict(x_test)\n",
    "mse = mean_squared_error(y_test, y_predict)\n",
    "print(f\"Mean Squared Error (RMSE): {mse:.2f}\")\n",
    "r2 = r2_score(y_test, y_predict)\n",
    "print(f\"R-squared (R2) Error: {r2:.2f}\")"
   ]
  }
 ],
 "metadata": {
  "kernelspec": {
   "display_name": "Python 3",
   "language": "python",
   "name": "python3"
  },
  "language_info": {
   "codemirror_mode": {
    "name": "ipython",
    "version": 3
   },
   "file_extension": ".py",
   "mimetype": "text/x-python",
   "name": "python",
   "nbconvert_exporter": "python",
   "pygments_lexer": "ipython3",
   "version": "3.11.5"
  }
 },
 "nbformat": 4,
 "nbformat_minor": 2
}
